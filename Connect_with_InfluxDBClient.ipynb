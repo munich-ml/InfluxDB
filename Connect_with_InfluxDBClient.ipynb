{
 "cells": [
  {
   "attachments": {},
   "cell_type": "markdown",
   "metadata": {},
   "source": [
    "# Access InfluxDB from Python\n",
    "Inspired by https://www.influxdata.com/blog/getting-started-python-influxdb/"
   ]
  },
  {
   "cell_type": "code",
   "execution_count": 3,
   "metadata": {},
   "outputs": [],
   "source": [
    "from influxdb import InfluxDBClient\n",
    "from ruamel.yaml import YAML\n",
    "import pandas as pd\n",
    "import datetime as dt"
   ]
  },
  {
   "attachments": {},
   "cell_type": "markdown",
   "metadata": {},
   "source": [
    "## Make the client and connect to a database"
   ]
  },
  {
   "cell_type": "code",
   "execution_count": 4,
   "metadata": {},
   "outputs": [
    {
     "data": {
      "text/plain": [
       "[{'name': '_internal'},\n",
       " {'name': 'influx_db_1'},\n",
       " {'name': 'influx_db_2'},\n",
       " {'name': 'influx_db_3'},\n",
       " {'name': 'influx_db_4'}]"
      ]
     },
     "execution_count": 4,
     "metadata": {},
     "output_type": "execute_result"
    }
   ],
   "source": [
    "with open(\"secrets.yaml\", \"r\") as file:\n",
    "    secrets = YAML().load(file)\n",
    "\n",
    "client = InfluxDBClient(host=secrets[\"influx\"][\"host\"], \n",
    "                        port=secrets[\"influx\"][\"port\"], \n",
    "                        username=secrets[\"influx\"][\"username\"], \n",
    "                        password=secrets[\"influx\"][\"password\"])\n",
    "\n",
    "client.get_list_database()"
   ]
  },
  {
   "cell_type": "code",
   "execution_count": 5,
   "metadata": {},
   "outputs": [],
   "source": [
    "client.switch_database('influx_db_4')"
   ]
  },
  {
   "cell_type": "markdown",
   "metadata": {},
   "source": [
    "## show series"
   ]
  },
  {
   "cell_type": "code",
   "execution_count": 6,
   "metadata": {},
   "outputs": [
    {
     "name": "stdout",
     "output_type": "stream",
     "text": [
      "0 %,domain=sensor,entity_id=benni_battery\n",
      "1 %,domain=sensor,entity_id=benni_moisture\n",
      "2 %,domain=sensor,entity_id=cooper_se_charging_target\n",
      "3 %,domain=sensor,entity_id=cooper_se_remaining_battery_percent\n",
      "4 %,domain=sensor,entity_id=disk_use_percent\n",
      "5 %,domain=sensor,entity_id=memory_use_percent\n",
      "6 %,domain=sensor,entity_id=moto_g54_5g_battery_level\n",
      "7 %,domain=sensor,entity_id=my_sensor\n",
      "8 %,domain=sensor,entity_id=mz_shutter_ff_bath_illuminance\n",
      "9 %,domain=sensor,entity_id=mz_shutter_ff_lara_l_illuminance\n",
      "10 %,domain=sensor,entity_id=mz_shutter_ff_lara_m_illuminance\n",
      "11 %,domain=sensor,entity_id=mz_shutter_ff_lara_r_illuminance\n",
      "12 %,domain=sensor,entity_id=mz_shutter_ff_sleep_l_illuminance\n",
      "13 %,domain=sensor,entity_id=mz_shutter_ff_sleep_r_illuminance\n",
      "14 %,domain=sensor,entity_id=mz_shutter_gf_kitchen_illuminance\n",
      "15 %,domain=sensor,entity_id=mz_shutter_gf_toilet_illuminance\n",
      "16 %,domain=sensor,entity_id=mz_shutter_sf_studio_l_illuminance\n",
      "17 %,domain=sensor,entity_id=openweathermap_cloud_coverage\n",
      "18 %,domain=sensor,entity_id=openweathermap_forecast_cloud_coverage\n",
      "19 %,domain=sensor,entity_id=openweathermap_forecast_precipitation_probability\n",
      "20 %,domain=sensor,entity_id=openweathermap_humidity\n",
      "21 %,domain=sensor,entity_id=pixel_6a_battery_level\n",
      "22 %,domain=sensor,entity_id=processor_use\n",
      "23 %,domain=sensor,entity_id=roller_shutter_push_button_illuminance\n",
      "24 %,domain=sensor,entity_id=shelly_th_black_battery\n",
      "25 %,domain=sensor,entity_id=shelly_th_black_humidity\n",
      "26 %,domain=sensor,entity_id=shelly_th_white_battery\n",
      "27 %,domain=sensor,entity_id=shelly_th_white_humidity\n",
      "28 %,domain=sensor,entity_id=shelly_uni2_humidity\n",
      "29 %,domain=sensor,entity_id=silkes_huawei_battery_level\n",
      "30 %,domain=sensor,entity_id=sm_t860_battery_level\n",
      "31 %,domain=sensor,entity_id=sma_battery_capacity_total\n",
      "32 %,domain=sensor,entity_id=sma_battery_soc_total\n",
      "33 %,domain=sensor,entity_id=smoke_detector_battery_level\n",
      "34 %,domain=sensor,entity_id=smoke_detector_pv_cellar_battery_level\n",
      "35 A,domain=sensor,entity_id=sma_battery_current_a\n",
      "36 A,domain=sensor,entity_id=sma_current_total\n",
      "37 A,domain=sensor,entity_id=sma_metering_current_l1\n",
      "38 A,domain=sensor,entity_id=sma_metering_current_l2\n",
      "39 A,domain=sensor,entity_id=sma_metering_current_l3\n",
      "40 A,domain=sensor,entity_id=sma_pv_current_a\n",
      "41 A,domain=sensor,entity_id=sma_pv_current_b\n",
      "42 A,domain=sensor,entity_id=walli_l1_current\n",
      "43 A,domain=sensor,entity_id=walli_l2_current\n",
      "44 A,domain=sensor,entity_id=walli_l3_current\n",
      "45 A,domain=sensor,entity_id=walli_max_current_hw_config\n",
      "46 A,domain=sensor,entity_id=walli_min_current_hw_config\n",
      "47 B,domain=sensor,entity_id=gasmeter2_freemem\n",
      "48 B,domain=sensor,entity_id=gasmeter_freemem\n",
      "49 B,domain=sensor,entity_id=watermeter_freemem\n",
      "50 GB,domain=sensor,entity_id=pixel_6a_app_memory\n",
      "51 GiB,domain=sensor,entity_id=disk_free\n",
      "52 GiB,domain=sensor,entity_id=disk_use\n",
      "53 Hz,domain=sensor,entity_id=sma_metering_frequency\n",
      "54 Mbit/s,domain=sensor,entity_id=speedtest_download\n",
      "55 Mbit/s,domain=sensor,entity_id=speedtest_upload\n",
      "56 MiB,domain=sensor,entity_id=memory_free\n",
      "57 MiB,domain=sensor,entity_id=memory_use\n",
      "58 UV index,domain=sensor,entity_id=openweathermap_uv_index\n",
      "59 V,domain=sensor,entity_id=shelly_uni2_adc\n",
      "60 V,domain=sensor,entity_id=shellyuni_c45bbe6acfed_adc\n",
      "61 V,domain=sensor,entity_id=walli_l1_voltage\n",
      "62 V,domain=sensor,entity_id=walli_l2_voltage\n",
      "63 V,domain=sensor,entity_id=walli_l3_voltage\n",
      "64 W,domain=sensor,entity_id=available_charging_power\n",
      "65 W,domain=sensor,entity_id=byd_charging_power\n",
      "66 W,domain=sensor,entity_id=filter_filtered_available_charging_power\n",
      "67 W,domain=sensor,entity_id=filter_filtered_power_imported\n",
      "68 W,domain=sensor,entity_id=filter_power_exported\n",
      "69 W,domain=sensor,entity_id=filter_solar_power\n",
      "70 W,domain=sensor,entity_id=filter_total_power_consumed\n",
      "71 W,domain=sensor,entity_id=home_power_consumed\n",
      "72 W,domain=sensor,entity_id=pixel_6a_battery_power\n",
      "73 W,domain=sensor,entity_id=power_exported\n",
      "74 W,domain=sensor,entity_id=power_imported\n",
      "75 W,domain=sensor,entity_id=shellyplug_s_43f1e3_power\n",
      "76 W,domain=sensor,entity_id=sma_battery_power_charge_total\n",
      "77 W,domain=sensor,entity_id=sma_battery_power_discharge_total\n",
      "78 W,domain=sensor,entity_id=sma_grid_power\n",
      "79 W,domain=sensor,entity_id=sma_inverter_power_limit\n",
      "80 W,domain=sensor,entity_id=sma_metering_active_power_draw_l1\n",
      "81 W,domain=sensor,entity_id=sma_metering_active_power_draw_l2\n",
      "82 W,domain=sensor,entity_id=sma_metering_active_power_draw_l3\n",
      "83 W,domain=sensor,entity_id=sma_metering_active_power_feed_l1\n",
      "84 W,domain=sensor,entity_id=sma_metering_active_power_feed_l2\n",
      "85 W,domain=sensor,entity_id=sma_metering_active_power_feed_l3\n",
      "86 W,domain=sensor,entity_id=sma_metering_power_absorbed\n",
      "87 W,domain=sensor,entity_id=sma_metering_power_supplied\n",
      "88 W,domain=sensor,entity_id=sma_pv_power_a\n",
      "89 W,domain=sensor,entity_id=sma_pv_power_b\n",
      "90 W,domain=sensor,entity_id=total_power_consumed\n",
      "91 W,domain=sensor,entity_id=walli_power\n",
      "92 Wh,domain=sensor,entity_id=sma_daily_yield\n",
      "93 dBm,domain=sensor,entity_id=gasmeter2_wifirssi\n",
      "94 dBm,domain=sensor,entity_id=gasmeter_wifirssi\n",
      "95 dBm,domain=sensor,entity_id=watermeter_wifirssi\n",
      "96 hPa,domain=sensor,entity_id=openweathermap_forecast_pressure\n",
      "97 hPa,domain=sensor,entity_id=openweathermap_pressure\n",
      "98 kW,domain=sensor,entity_id=walli_charging_power\n",
      "99 kWh,domain=sensor,entity_id=shellyplug_s_43f1e3_energy\n",
      "100 kWh,domain=sensor,entity_id=sma_battery_charge_total\n",
      "101 kWh,domain=sensor,entity_id=sma_battery_discharge_total\n",
      "102 kWh,domain=sensor,entity_id=sma_metering_total_absorbed\n",
      "103 kWh,domain=sensor,entity_id=sma_metering_total_yield\n",
      "104 kWh,domain=sensor,entity_id=sma_pv_gen_meter\n",
      "105 kWh,domain=sensor,entity_id=sma_total_yield\n",
      "106 kWh,domain=sensor,entity_id=swm_energy_meter_energy_exported\n",
      "107 kWh,domain=sensor,entity_id=swm_energy_meter_energy_imported\n",
      "108 kWh,domain=sensor,entity_id=walli_energy_since_powerup\n",
      "109 kWh,domain=sensor,entity_id=walli_energy_total\n",
      "110 kWh/100km,domain=sensor,entity_id=consumption_estimate\n",
      "111 km,domain=sensor,entity_id=cooper_se_mileage\n",
      "112 km,domain=sensor,entity_id=cooper_se_remaining_range_electric\n",
      "113 km,domain=sensor,entity_id=cooper_se_remaining_range_total\n",
      "114 km/h,domain=sensor,entity_id=openweathermap_forecast_wind_speed\n",
      "115 km/h,domain=sensor,entity_id=openweathermap_wind_speed\n",
      "116 l,domain=sensor,entity_id=mz_shutter_ff_sleep_l_tank_capacity_1\n",
      "117 lx,domain=sensor,entity_id=benni_illuminance\n",
      "118 m,domain=sensor,entity_id=openweathermap_visibility\n",
      "119 min,domain=sensor,entity_id=gasmeter2_interval\n",
      "120 min,domain=sensor,entity_id=gasmeter_interval\n",
      "121 min,domain=sensor,entity_id=watermeter_interval\n",
      "122 mm,domain=sensor,entity_id=openweathermap_forecast_precipitation\n",
      "123 mm,domain=sensor,entity_id=openweathermap_rain\n",
      "124 mm,domain=sensor,entity_id=openweathermap_snow\n",
      "125 mm/h,domain=sensor,entity_id=openweathermap_rain\n",
      "126 mm/h,domain=sensor,entity_id=openweathermap_snow\n",
      "127 ms,domain=sensor,entity_id=speedtest_ping\n",
      "128 m³,domain=sensor,entity_id=gasmeter2_rate_per_digitalization_round\n",
      "129 m³,domain=sensor,entity_id=gasmeter2_value\n",
      "130 m³,domain=sensor,entity_id=gasmeter_rate_per_digitalization_round\n",
      "131 m³,domain=sensor,entity_id=gasmeter_value\n",
      "132 m³,domain=sensor,entity_id=watermeter_rate_per_digitalization_round\n",
      "133 m³,domain=sensor,entity_id=watermeter_value\n",
      "134 m³/h,domain=sensor,entity_id=gasmeter2_rate_per_time_unit\n",
      "135 m³/h,domain=sensor,entity_id=gasmeter_rate_per_time_unit\n",
      "136 m³/h,domain=sensor,entity_id=watermeter_rate_per_time_unit\n",
      "137 pending update(s),domain=sensor,entity_id=hacs\n",
      "138 s,domain=sensor,entity_id=gasmeter2_uptime\n",
      "139 s,domain=sensor,entity_id=gasmeter_uptime\n",
      "140 s,domain=sensor,entity_id=watermeter_uptime\n",
      "141 state,domain=binary_sensor,entity_id=cooper_se_charging_status\n",
      "142 state,domain=binary_sensor,entity_id=cooper_se_check_control_messages\n",
      "143 state,domain=binary_sensor,entity_id=cooper_se_condition_based_services\n",
      "144 state,domain=binary_sensor,entity_id=cooper_se_connection_status\n",
      "145 state,domain=binary_sensor,entity_id=cooper_se_door_lock_state\n",
      "146 state,domain=binary_sensor,entity_id=cooper_se_lids\n",
      "147 state,domain=binary_sensor,entity_id=cooper_se_pre_entry_climatization\n",
      "148 state,domain=binary_sensor,entity_id=cooper_se_windows\n",
      "149 state,domain=binary_sensor,entity_id=gasmeter2_problem\n",
      "150 state,domain=binary_sensor,entity_id=gasmeter_problem\n",
      "151 state,domain=binary_sensor,entity_id=nspanel2_left_button\n",
      "152 state,domain=binary_sensor,entity_id=nspanel2_nextion_display\n",
      "153 state,domain=binary_sensor,entity_id=nspanel2_right_button\n",
      "154 state,domain=binary_sensor,entity_id=nspanel2_status\n",
      "155 state,domain=binary_sensor,entity_id=nspanel_livingroom_left_button\n",
      "156 state,domain=binary_sensor,entity_id=nspanel_livingroom_nextion_display\n",
      "157 state,domain=binary_sensor,entity_id=nspanel_livingroom_right_button\n",
      "158 state,domain=binary_sensor,entity_id=nspanel_livingroom_status\n",
      "159 state,domain=binary_sensor,entity_id=pixel_6a_is_charging\n",
      "160 state,domain=binary_sensor,entity_id=remote_ui\n",
      "161 state,domain=binary_sensor,entity_id=rpi_power_status\n",
      "162 state,domain=binary_sensor,entity_id=shellyplug_s_43f1e3_overheating\n",
      "163 state,domain=binary_sensor,entity_id=shellyplug_s_43f1e3_overpowering\n",
      "164 state,domain=binary_sensor,entity_id=smoke_detector_low_battery_level\n",
      "165 state,domain=binary_sensor,entity_id=smoke_detector_pv_cellar_low_battery_level\n",
      "166 state,domain=binary_sensor,entity_id=smoke_detector_pv_cellar_smoke_detected\n",
      "167 state,domain=binary_sensor,entity_id=smoke_detector_smoke_detected\n",
      "168 state,domain=binary_sensor,entity_id=wallmote_quad_battery_is_charging\n",
      "169 state,domain=binary_sensor,entity_id=wallmote_quad_battery_is_fully_charged\n",
      "170 state,domain=binary_sensor,entity_id=watermeter_problem\n",
      "171 state,domain=sensor,entity_id=gasmeter2_raw\n",
      "172 state,domain=sensor,entity_id=gasmeter_raw\n",
      "173 state,domain=sensor,entity_id=load_15m\n",
      "174 state,domain=sensor,entity_id=load_1m\n",
      "175 state,domain=sensor,entity_id=load_5m\n",
      "176 state,domain=sensor,entity_id=nspanel2_current_page\n",
      "177 state,domain=sensor,entity_id=nspanel_livingroom_current_page\n",
      "178 state,domain=sensor,entity_id=openweathermap_weather_code\n",
      "179 state,domain=sensor,entity_id=pixel_6a_detected_activity\n",
      "180 state,domain=sensor,entity_id=walli_charging_state\n",
      "181 state,domain=sensor,entity_id=walli_external_lock_state\n",
      "182 state,domain=sensor,entity_id=watermeter_raw\n",
      "183 steps,domain=sensor,entity_id=pixel_6a_steps_sensor\n",
      "184 °,domain=sensor,entity_id=openweathermap_forecast_wind_bearing\n",
      "185 °,domain=sensor,entity_id=openweathermap_wind_bearing\n",
      "186 °C,domain=sensor,entity_id=benni_temperature\n",
      "187 °C,domain=sensor,entity_id=gasmeter2_cputemp\n",
      "188 °C,domain=sensor,entity_id=gasmeter_cputemp\n",
      "189 °C,domain=sensor,entity_id=nspanel2_temperature\n",
      "190 °C,domain=sensor,entity_id=nspanel_livingroom_temperature\n",
      "191 °C,domain=sensor,entity_id=openweathermap_dew_point\n",
      "192 °C,domain=sensor,entity_id=openweathermap_feels_like_temperature\n",
      "193 °C,domain=sensor,entity_id=openweathermap_forecast_temperature\n",
      "194 °C,domain=sensor,entity_id=openweathermap_forecast_temperature_low\n",
      "195 °C,domain=sensor,entity_id=openweathermap_temperature\n",
      "196 °C,domain=sensor,entity_id=pixel_6a_battery_temperature\n",
      "197 °C,domain=sensor,entity_id=processor_temperature\n",
      "198 °C,domain=sensor,entity_id=shelly_th_black_temperature\n",
      "199 °C,domain=sensor,entity_id=shelly_th_white_temperature\n",
      "200 °C,domain=sensor,entity_id=shelly_uni2_temperature\n",
      "201 °C,domain=sensor,entity_id=shellyplug_s_43f1e3_device_temperature\n",
      "202 °C,domain=sensor,entity_id=sma_battery_temp_a\n",
      "203 °C,domain=sensor,entity_id=walli_wallbox_pcb_temperature\n",
      "204 °C,domain=sensor,entity_id=watermeter_cputemp\n",
      "205 µS/cm,domain=sensor,entity_id=benni_conductivity\n"
     ]
    }
   ],
   "source": [
    "points = [p[\"key\"].replace(\"\\\\\", \"\") for p in client.query(\"show series\").get_points()]\n",
    "for i, point in enumerate(points):\n",
    "    print(i, point)"
   ]
  },
  {
   "attachments": {},
   "cell_type": "markdown",
   "metadata": {},
   "source": [
    "## Query simple "
   ]
  },
  {
   "cell_type": "code",
   "execution_count": 7,
   "metadata": {},
   "outputs": [
    {
     "name": "stdout",
     "output_type": "stream",
     "text": [
      "qstr='SELECT * FROM \"m³/h\" WHERE TIME >= now() -1d'\n"
     ]
    },
    {
     "data": {
      "text/html": [
       "<div>\n",
       "<style scoped>\n",
       "    .dataframe tbody tr th:only-of-type {\n",
       "        vertical-align: middle;\n",
       "    }\n",
       "\n",
       "    .dataframe tbody tr th {\n",
       "        vertical-align: top;\n",
       "    }\n",
       "\n",
       "    .dataframe thead th {\n",
       "        text-align: right;\n",
       "    }\n",
       "</style>\n",
       "<table border=\"1\" class=\"dataframe\">\n",
       "  <thead>\n",
       "    <tr style=\"text-align: right;\">\n",
       "      <th></th>\n",
       "      <th>time</th>\n",
       "      <th>domain</th>\n",
       "      <th>entity_id</th>\n",
       "      <th>mean_value</th>\n",
       "    </tr>\n",
       "  </thead>\n",
       "  <tbody>\n",
       "    <tr>\n",
       "      <th>26</th>\n",
       "      <td>2024-06-01T23:00:00Z</td>\n",
       "      <td>sensor</td>\n",
       "      <td>watermeter_rate_per_time_unit</td>\n",
       "      <td>0.0024</td>\n",
       "    </tr>\n",
       "    <tr>\n",
       "      <th>27</th>\n",
       "      <td>2024-06-02T04:00:00Z</td>\n",
       "      <td>sensor</td>\n",
       "      <td>gasmeter2_rate_per_time_unit</td>\n",
       "      <td>0.0300</td>\n",
       "    </tr>\n",
       "    <tr>\n",
       "      <th>28</th>\n",
       "      <td>2024-06-02T05:00:00Z</td>\n",
       "      <td>sensor</td>\n",
       "      <td>gasmeter2_rate_per_time_unit</td>\n",
       "      <td>0.3830</td>\n",
       "    </tr>\n",
       "  </tbody>\n",
       "</table>\n",
       "</div>"
      ],
      "text/plain": [
       "                    time  domain                      entity_id  mean_value\n",
       "26  2024-06-01T23:00:00Z  sensor  watermeter_rate_per_time_unit      0.0024\n",
       "27  2024-06-02T04:00:00Z  sensor   gasmeter2_rate_per_time_unit      0.0300\n",
       "28  2024-06-02T05:00:00Z  sensor   gasmeter2_rate_per_time_unit      0.3830"
      ]
     },
     "execution_count": 7,
     "metadata": {},
     "output_type": "execute_result"
    }
   ],
   "source": [
    "qstr = f'SELECT * FROM \"m³/h\" WHERE TIME >= now() -1d'\n",
    "print(f\"{qstr=}\")\n",
    "df = pd.DataFrame.from_records(client.query(qstr).get_points())\n",
    "df.tail(3)"
   ]
  },
  {
   "cell_type": "code",
   "execution_count": 8,
   "metadata": {},
   "outputs": [
    {
     "data": {
      "text/html": [
       "<div>\n",
       "<style scoped>\n",
       "    .dataframe tbody tr th:only-of-type {\n",
       "        vertical-align: middle;\n",
       "    }\n",
       "\n",
       "    .dataframe tbody tr th {\n",
       "        vertical-align: top;\n",
       "    }\n",
       "\n",
       "    .dataframe thead th {\n",
       "        text-align: right;\n",
       "    }\n",
       "</style>\n",
       "<table border=\"1\" class=\"dataframe\">\n",
       "  <thead>\n",
       "    <tr style=\"text-align: right;\">\n",
       "      <th></th>\n",
       "      <th>domain</th>\n",
       "      <th>entity_id</th>\n",
       "      <th>mean_value</th>\n",
       "    </tr>\n",
       "    <tr>\n",
       "      <th>time</th>\n",
       "      <th></th>\n",
       "      <th></th>\n",
       "      <th></th>\n",
       "    </tr>\n",
       "  </thead>\n",
       "  <tbody>\n",
       "    <tr>\n",
       "      <th>2024-06-01 07:00:00+00:00</th>\n",
       "      <td>sensor</td>\n",
       "      <td>gasmeter2_rate_per_time_unit</td>\n",
       "      <td>0.10500</td>\n",
       "    </tr>\n",
       "    <tr>\n",
       "      <th>2024-06-01 07:00:00+00:00</th>\n",
       "      <td>sensor</td>\n",
       "      <td>watermeter_rate_per_time_unit</td>\n",
       "      <td>0.02676</td>\n",
       "    </tr>\n",
       "    <tr>\n",
       "      <th>2024-06-01 08:00:00+00:00</th>\n",
       "      <td>sensor</td>\n",
       "      <td>gasmeter2_rate_per_time_unit</td>\n",
       "      <td>0.13700</td>\n",
       "    </tr>\n",
       "    <tr>\n",
       "      <th>2024-06-01 08:00:00+00:00</th>\n",
       "      <td>sensor</td>\n",
       "      <td>watermeter_rate_per_time_unit</td>\n",
       "      <td>0.01190</td>\n",
       "    </tr>\n",
       "    <tr>\n",
       "      <th>2024-06-01 09:00:00+00:00</th>\n",
       "      <td>sensor</td>\n",
       "      <td>gasmeter2_rate_per_time_unit</td>\n",
       "      <td>0.10400</td>\n",
       "    </tr>\n",
       "  </tbody>\n",
       "</table>\n",
       "</div>"
      ],
      "text/plain": [
       "                           domain                      entity_id  mean_value\n",
       "time                                                                        \n",
       "2024-06-01 07:00:00+00:00  sensor   gasmeter2_rate_per_time_unit     0.10500\n",
       "2024-06-01 07:00:00+00:00  sensor  watermeter_rate_per_time_unit     0.02676\n",
       "2024-06-01 08:00:00+00:00  sensor   gasmeter2_rate_per_time_unit     0.13700\n",
       "2024-06-01 08:00:00+00:00  sensor  watermeter_rate_per_time_unit     0.01190\n",
       "2024-06-01 09:00:00+00:00  sensor   gasmeter2_rate_per_time_unit     0.10400"
      ]
     },
     "execution_count": 8,
     "metadata": {},
     "output_type": "execute_result"
    }
   ],
   "source": [
    "df.time = pd.to_datetime(df.time)\n",
    "df = df.set_index(\"time\")\n",
    "df.head()"
   ]
  },
  {
   "cell_type": "code",
   "execution_count": 9,
   "metadata": {},
   "outputs": [
    {
     "data": {
      "text/plain": [
       "entity_id\n",
       "watermeter_rate_per_time_unit    15\n",
       "gasmeter2_rate_per_time_unit     14\n",
       "Name: count, dtype: int64"
      ]
     },
     "execution_count": 9,
     "metadata": {},
     "output_type": "execute_result"
    }
   ],
   "source": [
    "df.entity_id.value_counts()"
   ]
  },
  {
   "cell_type": "markdown",
   "metadata": {},
   "source": [
    "## Query with datetime filter"
   ]
  },
  {
   "cell_type": "code",
   "execution_count": 10,
   "metadata": {},
   "outputs": [
    {
     "data": {
      "text/plain": [
       "'SELECT mean_value FROM \"m³\" WHERE entity_id=\\'watermeter_value\\''"
      ]
     },
     "execution_count": 10,
     "metadata": {},
     "output_type": "execute_result"
    }
   ],
   "source": [
    "unit = \"m³\"\n",
    "entity_id = \"watermeter_value\"\n",
    "selection = \"mean_value\"\n",
    "qstr = f'SELECT {selection} FROM \"{unit}\" WHERE {entity_id=}'\n",
    "qstr"
   ]
  },
  {
   "cell_type": "markdown",
   "metadata": {},
   "source": [
    "Simple query string w/o datetime filter provides all data:"
   ]
  },
  {
   "cell_type": "code",
   "execution_count": 11,
   "metadata": {},
   "outputs": [
    {
     "data": {
      "text/html": [
       "<div>\n",
       "<style scoped>\n",
       "    .dataframe tbody tr th:only-of-type {\n",
       "        vertical-align: middle;\n",
       "    }\n",
       "\n",
       "    .dataframe tbody tr th {\n",
       "        vertical-align: top;\n",
       "    }\n",
       "\n",
       "    .dataframe thead th {\n",
       "        text-align: right;\n",
       "    }\n",
       "</style>\n",
       "<table border=\"1\" class=\"dataframe\">\n",
       "  <thead>\n",
       "    <tr style=\"text-align: right;\">\n",
       "      <th></th>\n",
       "      <th>time</th>\n",
       "      <th>mean_value</th>\n",
       "    </tr>\n",
       "  </thead>\n",
       "  <tbody>\n",
       "    <tr>\n",
       "      <th>0</th>\n",
       "      <td>2023-10-29T14:00:00Z</td>\n",
       "      <td>579.340333</td>\n",
       "    </tr>\n",
       "    <tr>\n",
       "      <th>1</th>\n",
       "      <td>2023-10-29T15:00:00Z</td>\n",
       "      <td>579.342650</td>\n",
       "    </tr>\n",
       "    <tr>\n",
       "      <th>2</th>\n",
       "      <td>2023-10-29T16:00:00Z</td>\n",
       "      <td>579.360750</td>\n",
       "    </tr>\n",
       "    <tr>\n",
       "      <th>3</th>\n",
       "      <td>2023-10-29T17:00:00Z</td>\n",
       "      <td>579.378600</td>\n",
       "    </tr>\n",
       "    <tr>\n",
       "      <th>4</th>\n",
       "      <td>2023-10-29T18:00:00Z</td>\n",
       "      <td>579.287033</td>\n",
       "    </tr>\n",
       "    <tr>\n",
       "      <th>...</th>\n",
       "      <td>...</td>\n",
       "      <td>...</td>\n",
       "    </tr>\n",
       "    <tr>\n",
       "      <th>2882</th>\n",
       "      <td>2024-06-01T17:00:00Z</td>\n",
       "      <td>619.520500</td>\n",
       "    </tr>\n",
       "    <tr>\n",
       "      <th>2883</th>\n",
       "      <td>2024-06-01T18:00:00Z</td>\n",
       "      <td>619.545200</td>\n",
       "    </tr>\n",
       "    <tr>\n",
       "      <th>2884</th>\n",
       "      <td>2024-06-01T19:00:00Z</td>\n",
       "      <td>619.549900</td>\n",
       "    </tr>\n",
       "    <tr>\n",
       "      <th>2885</th>\n",
       "      <td>2024-06-01T20:00:00Z</td>\n",
       "      <td>619.562625</td>\n",
       "    </tr>\n",
       "    <tr>\n",
       "      <th>2886</th>\n",
       "      <td>2024-06-01T23:00:00Z</td>\n",
       "      <td>619.568300</td>\n",
       "    </tr>\n",
       "  </tbody>\n",
       "</table>\n",
       "<p>2887 rows × 2 columns</p>\n",
       "</div>"
      ],
      "text/plain": [
       "                      time  mean_value\n",
       "0     2023-10-29T14:00:00Z  579.340333\n",
       "1     2023-10-29T15:00:00Z  579.342650\n",
       "2     2023-10-29T16:00:00Z  579.360750\n",
       "3     2023-10-29T17:00:00Z  579.378600\n",
       "4     2023-10-29T18:00:00Z  579.287033\n",
       "...                    ...         ...\n",
       "2882  2024-06-01T17:00:00Z  619.520500\n",
       "2883  2024-06-01T18:00:00Z  619.545200\n",
       "2884  2024-06-01T19:00:00Z  619.549900\n",
       "2885  2024-06-01T20:00:00Z  619.562625\n",
       "2886  2024-06-01T23:00:00Z  619.568300\n",
       "\n",
       "[2887 rows x 2 columns]"
      ]
     },
     "execution_count": 11,
     "metadata": {},
     "output_type": "execute_result"
    }
   ],
   "source": [
    "pd.DataFrame.from_records(client.query(qstr).get_points())"
   ]
  },
  {
   "cell_type": "markdown",
   "metadata": {},
   "source": [
    "## Adding a datetime filter\n",
    "InfluxDB is very intolerant about the quotes (`\"`, `'`)"
   ]
  },
  {
   "cell_type": "code",
   "execution_count": 12,
   "metadata": {},
   "outputs": [
    {
     "data": {
      "text/plain": [
       "'2024-04-01T12:00:00.00000000Z'"
      ]
     },
     "execution_count": 12,
     "metadata": {},
     "output_type": "execute_result"
    }
   ],
   "source": [
    "start_date = dt.datetime(2024,4,1).date()\n",
    "start_time = dt.time(12, 0, 0)\n",
    "rfc3339_format = '%Y-%m-%dT%H:%M:%S.00000000Z'\n",
    "start_string = dt.datetime.combine(start_date, start_time).strftime(rfc3339_format)\n",
    "start_string"
   ]
  },
  {
   "cell_type": "code",
   "execution_count": 13,
   "metadata": {},
   "outputs": [
    {
     "data": {
      "text/plain": [
       "'SELECT mean_value FROM \"m³\" WHERE entity_id=\\'watermeter_value\\' AND time >= \\'2024-04-01T12:00:00.00000000Z\\''"
      ]
     },
     "execution_count": 13,
     "metadata": {},
     "output_type": "execute_result"
    }
   ],
   "source": [
    "qstr = f\"\"\"SELECT {selection} FROM \"{unit}\" WHERE {entity_id=} AND time >= '{start_string}'\"\"\"\n",
    "qstr"
   ]
  },
  {
   "cell_type": "code",
   "execution_count": 14,
   "metadata": {},
   "outputs": [
    {
     "data": {
      "text/html": [
       "<div>\n",
       "<style scoped>\n",
       "    .dataframe tbody tr th:only-of-type {\n",
       "        vertical-align: middle;\n",
       "    }\n",
       "\n",
       "    .dataframe tbody tr th {\n",
       "        vertical-align: top;\n",
       "    }\n",
       "\n",
       "    .dataframe thead th {\n",
       "        text-align: right;\n",
       "    }\n",
       "</style>\n",
       "<table border=\"1\" class=\"dataframe\">\n",
       "  <thead>\n",
       "    <tr style=\"text-align: right;\">\n",
       "      <th></th>\n",
       "      <th>mean_value</th>\n",
       "    </tr>\n",
       "    <tr>\n",
       "      <th>time</th>\n",
       "      <th></th>\n",
       "    </tr>\n",
       "  </thead>\n",
       "  <tbody>\n",
       "    <tr>\n",
       "      <th>2024-04-01T12:00:00Z</th>\n",
       "      <td>607.470350</td>\n",
       "    </tr>\n",
       "    <tr>\n",
       "      <th>2024-04-01T14:00:00Z</th>\n",
       "      <td>607.470350</td>\n",
       "    </tr>\n",
       "    <tr>\n",
       "      <th>2024-04-01T15:00:00Z</th>\n",
       "      <td>607.470350</td>\n",
       "    </tr>\n",
       "    <tr>\n",
       "      <th>2024-04-01T16:00:00Z</th>\n",
       "      <td>607.479475</td>\n",
       "    </tr>\n",
       "    <tr>\n",
       "      <th>2024-04-01T18:00:00Z</th>\n",
       "      <td>607.492200</td>\n",
       "    </tr>\n",
       "    <tr>\n",
       "      <th>...</th>\n",
       "      <td>...</td>\n",
       "    </tr>\n",
       "    <tr>\n",
       "      <th>2024-06-01T17:00:00Z</th>\n",
       "      <td>619.520500</td>\n",
       "    </tr>\n",
       "    <tr>\n",
       "      <th>2024-06-01T18:00:00Z</th>\n",
       "      <td>619.545200</td>\n",
       "    </tr>\n",
       "    <tr>\n",
       "      <th>2024-06-01T19:00:00Z</th>\n",
       "      <td>619.549900</td>\n",
       "    </tr>\n",
       "    <tr>\n",
       "      <th>2024-06-01T20:00:00Z</th>\n",
       "      <td>619.562625</td>\n",
       "    </tr>\n",
       "    <tr>\n",
       "      <th>2024-06-01T23:00:00Z</th>\n",
       "      <td>619.568300</td>\n",
       "    </tr>\n",
       "  </tbody>\n",
       "</table>\n",
       "<p>874 rows × 1 columns</p>\n",
       "</div>"
      ],
      "text/plain": [
       "                      mean_value\n",
       "time                            \n",
       "2024-04-01T12:00:00Z  607.470350\n",
       "2024-04-01T14:00:00Z  607.470350\n",
       "2024-04-01T15:00:00Z  607.470350\n",
       "2024-04-01T16:00:00Z  607.479475\n",
       "2024-04-01T18:00:00Z  607.492200\n",
       "...                          ...\n",
       "2024-06-01T17:00:00Z  619.520500\n",
       "2024-06-01T18:00:00Z  619.545200\n",
       "2024-06-01T19:00:00Z  619.549900\n",
       "2024-06-01T20:00:00Z  619.562625\n",
       "2024-06-01T23:00:00Z  619.568300\n",
       "\n",
       "[874 rows x 1 columns]"
      ]
     },
     "execution_count": 14,
     "metadata": {},
     "output_type": "execute_result"
    }
   ],
   "source": [
    "pd.DataFrame.from_records(client.query(qstr).get_points()).set_index(\"time\")"
   ]
  },
  {
   "cell_type": "markdown",
   "metadata": {},
   "source": [
    "# Interactive Database cleanup tool"
   ]
  },
  {
   "cell_type": "code",
   "execution_count": 35,
   "metadata": {},
   "outputs": [
    {
     "data": {
      "text/html": [
       "<div>\n",
       "<style scoped>\n",
       "    .dataframe tbody tr th:only-of-type {\n",
       "        vertical-align: middle;\n",
       "    }\n",
       "\n",
       "    .dataframe tbody tr th {\n",
       "        vertical-align: top;\n",
       "    }\n",
       "\n",
       "    .dataframe thead th {\n",
       "        text-align: right;\n",
       "    }\n",
       "</style>\n",
       "<table border=\"1\" class=\"dataframe\">\n",
       "  <thead>\n",
       "    <tr style=\"text-align: right;\">\n",
       "      <th></th>\n",
       "      <th>unit</th>\n",
       "      <th>entity_id</th>\n",
       "      <th>length</th>\n",
       "    </tr>\n",
       "  </thead>\n",
       "  <tbody>\n",
       "    <tr>\n",
       "      <th>175</th>\n",
       "      <td>°C</td>\n",
       "      <td>shellyplug_s_43f1e3_device_temperature</td>\n",
       "      <td>2532</td>\n",
       "    </tr>\n",
       "    <tr>\n",
       "      <th>176</th>\n",
       "      <td>°C</td>\n",
       "      <td>sma_battery_temp_a</td>\n",
       "      <td>2305</td>\n",
       "    </tr>\n",
       "    <tr>\n",
       "      <th>177</th>\n",
       "      <td>°C</td>\n",
       "      <td>walli_wallbox_pcb_temperature</td>\n",
       "      <td>8763</td>\n",
       "    </tr>\n",
       "    <tr>\n",
       "      <th>178</th>\n",
       "      <td>°C</td>\n",
       "      <td>watermeter_cputemp</td>\n",
       "      <td>3487</td>\n",
       "    </tr>\n",
       "    <tr>\n",
       "      <th>179</th>\n",
       "      <td>µS/cm</td>\n",
       "      <td>benni_conductivity</td>\n",
       "      <td>582</td>\n",
       "    </tr>\n",
       "  </tbody>\n",
       "</table>\n",
       "</div>"
      ],
      "text/plain": [
       "      unit                               entity_id  length\n",
       "175     °C  shellyplug_s_43f1e3_device_temperature    2532\n",
       "176     °C                      sma_battery_temp_a    2305\n",
       "177     °C           walli_wallbox_pcb_temperature    8763\n",
       "178     °C                      watermeter_cputemp    3487\n",
       "179  µS/cm                      benni_conductivity     582"
      ]
     },
     "execution_count": 35,
     "metadata": {},
     "output_type": "execute_result"
    }
   ],
   "source": [
    "records = list()\n",
    "points = [p[\"key\"].replace(\"\\\\\", \"\") for p in client.query(\"show series\").get_points()]\n",
    "for point in points:\n",
    "    unit, _, entity_id = point.split(\",\")\n",
    "    entity_id = entity_id.split(\"=\")[-1]\n",
    "    qstr = f\"\"\"SELECT * FROM \"{unit}\" WHERE entity_id = '{entity_id}'\"\"\"\n",
    "    data = pd.DataFrame.from_records(client.query(qstr).get_points())\n",
    "    records.append({\"unit\": unit, \"entity_id\": entity_id, \"length\": len(data)})\n",
    "df = pd.DataFrame.from_records(records)\n",
    "df.tail()"
   ]
  },
  {
   "cell_type": "code",
   "execution_count": 37,
   "metadata": {},
   "outputs": [],
   "source": [
    "from IPython.display import clear_output\n",
    "df = df.sort_values(\"length\")\n",
    "blacklist = list()\n",
    "for idf, row in df.iterrows():\n",
    "    unit = row[\"unit\"]\n",
    "    entity_id = row[\"entity_id\"]\n",
    "    length = row[\"length\"]\n",
    "    qstr = f\"\"\"SELECT * FROM \"{unit}\" WHERE entity_id = '{entity_id}'\"\"\"\n",
    "    data = pd.DataFrame.from_records(client.query(qstr).get_points())\n",
    "    data.time = pd.to_datetime(data.time)\n",
    "    series = data.set_index(\"time\")[\"mean_value\"]\n",
    "    title = f\"{entity_id=}   {length=}   until={series.index[-1]}\"\n",
    "    try:\n",
    "        series.plot(figsize=(15, 2), style=\"o-\", ylabel=unit, title=title)\n",
    "        plt.show()\n",
    "    except Exception as exception:\n",
    "        print(f\"{exception=}\")\n",
    "    choice = input(\"('delete'), ('add') to blacklist, ('abort') or (any) to continoue?\")\n",
    "    clear_output()\n",
    "    if choice == \"abort\":\n",
    "        break\n",
    "    elif choice == \"add\":\n",
    "        blacklist.append(row.to_dict())\n",
    "    elif choice == \"delete\":\n",
    "        confirm = input(\"Are you really sure to delete, then type 'confirm'\")\n",
    "        if confirm == \"confirm\":\n",
    "            print(f\"Deleting {entity_id=} ...\")\n",
    "            delete_str = f\"\"\"DELETE FROM \"{unit}\" WHERE entity_id = '{entity_id}'\"\"\"\n",
    "            client.query(delete_str)\n",
    "if blacklist:\n",
    "    import json\n",
    "    with open(\"entity_blacklist.json\", \"w\") as file:\n",
    "        json.dump(blacklist, file)"
   ]
  },
  {
   "cell_type": "code",
   "execution_count": 44,
   "metadata": {},
   "outputs": [],
   "source": [
    "with open(\"entity_blacklist.json\", \"r\") as file:\n",
    "    data = json.load(file)\n",
    "\n",
    "df = pd.DataFrame.from_records(data)\n",
    "df = df.drop(axis=1, labels=[\"length\"])\n",
    "df = df.sort_values(\"entity_id\").set_index(\"entity_id\")\n",
    "df.to_csv(\"entity_blacklist.csv\")"
   ]
  },
  {
   "cell_type": "code",
   "execution_count": null,
   "metadata": {},
   "outputs": [],
   "source": []
  }
 ],
 "metadata": {
  "kernelspec": {
   "display_name": "datascience",
   "language": "python",
   "name": "python3"
  },
  "language_info": {
   "codemirror_mode": {
    "name": "ipython",
    "version": 3
   },
   "file_extension": ".py",
   "mimetype": "text/x-python",
   "name": "python",
   "nbconvert_exporter": "python",
   "pygments_lexer": "ipython3",
   "version": "3.12.2"
  },
  "orig_nbformat": 4
 },
 "nbformat": 4,
 "nbformat_minor": 2
}
