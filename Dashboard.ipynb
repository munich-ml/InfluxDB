{
 "cells": [
  {
   "cell_type": "code",
   "execution_count": 10,
   "metadata": {},
   "outputs": [],
   "source": [
    "from influxdb import InfluxDBClient\n",
    "import pandas as pd\n",
    "import ipywidgets as widgets\n",
    "from IPython.display import display\n",
    "import matplotlib.pyplot as plt\n",
    "import matplotlib as mpl\n",
    "import seaborn as sns\n",
    "import numpy as np\n",
    "from ruamel.yaml import YAML\n",
    "import streamlit as st\n",
    "import datetime as dt"
   ]
  },
  {
   "cell_type": "code",
   "execution_count": 11,
   "metadata": {},
   "outputs": [
    {
     "data": {
      "text/plain": [
       "[{'name': '_internal'},\n",
       " {'name': 'influx_db_1'},\n",
       " {'name': 'influx_db_2'},\n",
       " {'name': 'influx_db_3'},\n",
       " {'name': 'influx_db_4'}]"
      ]
     },
     "execution_count": 11,
     "metadata": {},
     "output_type": "execute_result"
    }
   ],
   "source": [
    "with open(\"secrets.yaml\", \"r\") as file:\n",
    "    secrets = YAML().load(file)\n",
    "\n",
    "client = InfluxDBClient(host=secrets[\"influx\"][\"host\"], \n",
    "                        port=secrets[\"influx\"][\"port\"], \n",
    "                        username=secrets[\"influx\"][\"username\"], \n",
    "                        password=secrets[\"influx\"][\"password\"])\n",
    "\n",
    "client.get_list_database()"
   ]
  },
  {
   "cell_type": "code",
   "execution_count": 12,
   "metadata": {},
   "outputs": [
    {
     "data": {
      "text/plain": [
       "['_internal', 'influx_db_1', 'influx_db_2', 'influx_db_3', 'influx_db_4']"
      ]
     },
     "execution_count": 12,
     "metadata": {},
     "output_type": "execute_result"
    }
   ],
   "source": [
    "databases = [item[\"name\"] for item in client.get_list_database()]\n",
    "databases"
   ]
  },
  {
   "cell_type": "code",
   "execution_count": 13,
   "metadata": {},
   "outputs": [],
   "source": [
    "client.switch_database('influx_db_4')"
   ]
  },
  {
   "cell_type": "code",
   "execution_count": 14,
   "metadata": {},
   "outputs": [],
   "source": [
    "records = list()\n",
    "for point in [\"unit=\" + p[\"key\"] for p in client.query(\"show series\").get_points()]:\n",
    "    # point example: unit=kWh,domain=sensor,entity_id=sma_battery_charge_total\n",
    "    record = dict()\n",
    "    for item in point.split(\",\"):\n",
    "        key, value = item.split(\"=\")\n",
    "        record[key] = value\n",
    "    records.append(record)\n",
    "entities = pd.DataFrame.from_records(records)"
   ]
  },
  {
   "cell_type": "code",
   "execution_count": 15,
   "metadata": {},
   "outputs": [
    {
     "data": {
      "text/plain": [
       "unit\n",
       "%                     52\n",
       "A                     19\n",
       "B                      3\n",
       "GB                     1\n",
       "GiB                    2\n",
       "Hz                     2\n",
       "Mbit/s                 2\n",
       "MiB                    2\n",
       "UV\\ index              1\n",
       "V                      6\n",
       "W                     46\n",
       "Wh                     2\n",
       "dBm                    3\n",
       "h                      1\n",
       "hPa                    2\n",
       "kW                     1\n",
       "kWh                   17\n",
       "kWh/100km              1\n",
       "km                     4\n",
       "km/h                   2\n",
       "l                      2\n",
       "lx                     2\n",
       "m                      1\n",
       "min                    3\n",
       "mm                     3\n",
       "mm/h                   2\n",
       "ms                     1\n",
       "m³                     6\n",
       "m³/h                   3\n",
       "pending\\ update(s)     1\n",
       "s                      4\n",
       "state                 64\n",
       "steps                  1\n",
       "°                      3\n",
       "°C                    24\n",
       "µS/cm                  2\n",
       "Name: count, dtype: int64"
      ]
     },
     "execution_count": 15,
     "metadata": {},
     "output_type": "execute_result"
    }
   ],
   "source": [
    "entities.unit.value_counts().sort_index()"
   ]
  },
  {
   "cell_type": "code",
   "execution_count": 16,
   "metadata": {},
   "outputs": [
    {
     "data": {
      "text/html": [
       "<div>\n",
       "<style scoped>\n",
       "    .dataframe tbody tr th:only-of-type {\n",
       "        vertical-align: middle;\n",
       "    }\n",
       "\n",
       "    .dataframe tbody tr th {\n",
       "        vertical-align: top;\n",
       "    }\n",
       "\n",
       "    .dataframe thead th {\n",
       "        text-align: right;\n",
       "    }\n",
       "</style>\n",
       "<table border=\"1\" class=\"dataframe\">\n",
       "  <thead>\n",
       "    <tr style=\"text-align: right;\">\n",
       "      <th></th>\n",
       "      <th>unit</th>\n",
       "      <th>domain</th>\n",
       "      <th>entity_id</th>\n",
       "    </tr>\n",
       "  </thead>\n",
       "  <tbody>\n",
       "    <tr>\n",
       "      <th>183</th>\n",
       "      <td>m³</td>\n",
       "      <td>sensor</td>\n",
       "      <td>gasmeter2_rate_per_digitalization_round</td>\n",
       "    </tr>\n",
       "    <tr>\n",
       "      <th>184</th>\n",
       "      <td>m³</td>\n",
       "      <td>sensor</td>\n",
       "      <td>gasmeter2_value</td>\n",
       "    </tr>\n",
       "    <tr>\n",
       "      <th>185</th>\n",
       "      <td>m³</td>\n",
       "      <td>sensor</td>\n",
       "      <td>gasmeter_rate_per_digitalization_round</td>\n",
       "    </tr>\n",
       "    <tr>\n",
       "      <th>186</th>\n",
       "      <td>m³</td>\n",
       "      <td>sensor</td>\n",
       "      <td>gasmeter_value</td>\n",
       "    </tr>\n",
       "    <tr>\n",
       "      <th>187</th>\n",
       "      <td>m³</td>\n",
       "      <td>sensor</td>\n",
       "      <td>watermeter_rate_per_digitalization_round</td>\n",
       "    </tr>\n",
       "    <tr>\n",
       "      <th>188</th>\n",
       "      <td>m³</td>\n",
       "      <td>sensor</td>\n",
       "      <td>watermeter_value</td>\n",
       "    </tr>\n",
       "  </tbody>\n",
       "</table>\n",
       "</div>"
      ],
      "text/plain": [
       "    unit  domain                                 entity_id\n",
       "183   m³  sensor   gasmeter2_rate_per_digitalization_round\n",
       "184   m³  sensor                           gasmeter2_value\n",
       "185   m³  sensor    gasmeter_rate_per_digitalization_round\n",
       "186   m³  sensor                            gasmeter_value\n",
       "187   m³  sensor  watermeter_rate_per_digitalization_round\n",
       "188   m³  sensor                          watermeter_value"
      ]
     },
     "execution_count": 16,
     "metadata": {},
     "output_type": "execute_result"
    }
   ],
   "source": [
    "entities[entities.unit == \"m³\"]"
   ]
  },
  {
   "cell_type": "code",
   "execution_count": 81,
   "metadata": {},
   "outputs": [
    {
     "data": {
      "text/plain": [
       "'°C'"
      ]
     },
     "execution_count": 81,
     "metadata": {},
     "output_type": "execute_result"
    }
   ],
   "source": [
    "next(iter(entities[entities[\"entity_id\"] == \"watermeter_cputemp\"][\"unit\"]))"
   ]
  },
  {
   "cell_type": "code",
   "execution_count": null,
   "metadata": {},
   "outputs": [],
   "source": [
    "w"
   ]
  },
  {
   "cell_type": "code",
   "execution_count": 21,
   "metadata": {},
   "outputs": [
    {
     "data": {
      "text/html": [
       "<div>\n",
       "<style scoped>\n",
       "    .dataframe tbody tr th:only-of-type {\n",
       "        vertical-align: middle;\n",
       "    }\n",
       "\n",
       "    .dataframe tbody tr th {\n",
       "        vertical-align: top;\n",
       "    }\n",
       "\n",
       "    .dataframe thead th {\n",
       "        text-align: right;\n",
       "    }\n",
       "</style>\n",
       "<table border=\"1\" class=\"dataframe\">\n",
       "  <thead>\n",
       "    <tr style=\"text-align: right;\">\n",
       "      <th></th>\n",
       "      <th>time</th>\n",
       "      <th>mean_value</th>\n",
       "    </tr>\n",
       "  </thead>\n",
       "  <tbody>\n",
       "    <tr>\n",
       "      <th>2087</th>\n",
       "      <td>2024-04-08T11:00:00Z</td>\n",
       "      <td>608.4674</td>\n",
       "    </tr>\n",
       "    <tr>\n",
       "      <th>2088</th>\n",
       "      <td>2024-04-08T15:00:00Z</td>\n",
       "      <td>608.4740</td>\n",
       "    </tr>\n",
       "  </tbody>\n",
       "</table>\n",
       "</div>"
      ],
      "text/plain": [
       "                      time  mean_value\n",
       "2087  2024-04-08T11:00:00Z    608.4674\n",
       "2088  2024-04-08T15:00:00Z    608.4740"
      ]
     },
     "execution_count": 21,
     "metadata": {},
     "output_type": "execute_result"
    }
   ],
   "source": [
    "unit = \"m³\"\n",
    "entity_id = \"watermeter_value\"\n",
    "selection = \"mean_value\"\n",
    "qstr = f'SELECT {selection} FROM \"{unit}\" WHERE {entity_id=}'\n",
    "df = pd.DataFrame.from_records(client.query(qstr).get_points())\n",
    "df.tail(2)\n"
   ]
  },
  {
   "cell_type": "code",
   "execution_count": 25,
   "metadata": {},
   "outputs": [],
   "source": [
    "start_date = dt.datetime(2024,1,1).date()\n",
    "start_time = dt.time(12, 0, 0)\n",
    "start_datetime = dt.datetime.combine(start_date, start_time)"
   ]
  },
  {
   "cell_type": "code",
   "execution_count": null,
   "metadata": {},
   "outputs": [],
   "source": []
  },
  {
   "cell_type": "code",
   "execution_count": 68,
   "metadata": {},
   "outputs": [],
   "source": [
    "rfc3339_format = '%Y-%m-%dT%H:%M:%S.00000000Z'\n",
    "start_string = dt.datetime.combine(start_date, start_time).strftime(rfc3339_format)"
   ]
  },
  {
   "cell_type": "code",
   "execution_count": 69,
   "metadata": {},
   "outputs": [
    {
     "data": {
      "text/plain": [
       "'SELECT mean_value FROM \"m³\" WHERE entity_id=\\'watermeter_value\\' AND time >= \\'2024-01-01T12:00:00.00000000Z\\''"
      ]
     },
     "execution_count": 69,
     "metadata": {},
     "output_type": "execute_result"
    }
   ],
   "source": [
    "unit = \"m³\"\n",
    "entity_id = \"watermeter_value\"\n",
    "selection = \"mean_value\"\n",
    "qstr = f\"\"\"SELECT {selection} FROM \"{unit}\" WHERE {entity_id=} AND time >= '{start_string}'\"\"\"\n",
    "qstr"
   ]
  },
  {
   "cell_type": "code",
   "execution_count": 82,
   "metadata": {},
   "outputs": [
    {
     "data": {
      "text/html": [
       "<div>\n",
       "<style scoped>\n",
       "    .dataframe tbody tr th:only-of-type {\n",
       "        vertical-align: middle;\n",
       "    }\n",
       "\n",
       "    .dataframe tbody tr th {\n",
       "        vertical-align: top;\n",
       "    }\n",
       "\n",
       "    .dataframe thead th {\n",
       "        text-align: right;\n",
       "    }\n",
       "</style>\n",
       "<table border=\"1\" class=\"dataframe\">\n",
       "  <thead>\n",
       "    <tr style=\"text-align: right;\">\n",
       "      <th></th>\n",
       "      <th>mean_value</th>\n",
       "    </tr>\n",
       "    <tr>\n",
       "      <th>time</th>\n",
       "      <th></th>\n",
       "    </tr>\n",
       "  </thead>\n",
       "  <tbody>\n",
       "    <tr>\n",
       "      <th>2024-01-01T12:00:00Z</th>\n",
       "      <td>591.116700</td>\n",
       "    </tr>\n",
       "    <tr>\n",
       "      <th>2024-01-01T13:00:00Z</th>\n",
       "      <td>591.147960</td>\n",
       "    </tr>\n",
       "    <tr>\n",
       "      <th>2024-01-01T14:00:00Z</th>\n",
       "      <td>591.167750</td>\n",
       "    </tr>\n",
       "    <tr>\n",
       "      <th>2024-01-01T15:00:00Z</th>\n",
       "      <td>591.204033</td>\n",
       "    </tr>\n",
       "    <tr>\n",
       "      <th>2024-01-01T16:00:00Z</th>\n",
       "      <td>591.212400</td>\n",
       "    </tr>\n",
       "    <tr>\n",
       "      <th>...</th>\n",
       "      <td>...</td>\n",
       "    </tr>\n",
       "    <tr>\n",
       "      <th>2024-04-08T15:00:00Z</th>\n",
       "      <td>608.474000</td>\n",
       "    </tr>\n",
       "    <tr>\n",
       "      <th>2024-04-08T16:00:00Z</th>\n",
       "      <td>608.480000</td>\n",
       "    </tr>\n",
       "    <tr>\n",
       "      <th>2024-04-08T17:00:00Z</th>\n",
       "      <td>608.488400</td>\n",
       "    </tr>\n",
       "    <tr>\n",
       "      <th>2024-04-08T18:00:00Z</th>\n",
       "      <td>608.495967</td>\n",
       "    </tr>\n",
       "    <tr>\n",
       "      <th>2024-04-08T19:00:00Z</th>\n",
       "      <td>608.502000</td>\n",
       "    </tr>\n",
       "  </tbody>\n",
       "</table>\n",
       "<p>1356 rows × 1 columns</p>\n",
       "</div>"
      ],
      "text/plain": [
       "                      mean_value\n",
       "time                            \n",
       "2024-01-01T12:00:00Z  591.116700\n",
       "2024-01-01T13:00:00Z  591.147960\n",
       "2024-01-01T14:00:00Z  591.167750\n",
       "2024-01-01T15:00:00Z  591.204033\n",
       "2024-01-01T16:00:00Z  591.212400\n",
       "...                          ...\n",
       "2024-04-08T15:00:00Z  608.474000\n",
       "2024-04-08T16:00:00Z  608.480000\n",
       "2024-04-08T17:00:00Z  608.488400\n",
       "2024-04-08T18:00:00Z  608.495967\n",
       "2024-04-08T19:00:00Z  608.502000\n",
       "\n",
       "[1356 rows x 1 columns]"
      ]
     },
     "execution_count": 82,
     "metadata": {},
     "output_type": "execute_result"
    }
   ],
   "source": [
    "df = pd.DataFrame.from_records(client.query(qstr).get_points()).set_index(\"time\")\n",
    "df"
   ]
  },
  {
   "cell_type": "code",
   "execution_count": null,
   "metadata": {},
   "outputs": [],
   "source": []
  },
  {
   "cell_type": "code",
   "execution_count": null,
   "metadata": {},
   "outputs": [],
   "source": []
  },
  {
   "cell_type": "code",
   "execution_count": null,
   "metadata": {},
   "outputs": [],
   "source": []
  },
  {
   "cell_type": "code",
   "execution_count": null,
   "metadata": {},
   "outputs": [],
   "source": []
  },
  {
   "cell_type": "code",
   "execution_count": 18,
   "metadata": {},
   "outputs": [
    {
     "data": {
      "text/html": [
       "<div>\n",
       "<style scoped>\n",
       "    .dataframe tbody tr th:only-of-type {\n",
       "        vertical-align: middle;\n",
       "    }\n",
       "\n",
       "    .dataframe tbody tr th {\n",
       "        vertical-align: top;\n",
       "    }\n",
       "\n",
       "    .dataframe thead th {\n",
       "        text-align: right;\n",
       "    }\n",
       "</style>\n",
       "<table border=\"1\" class=\"dataframe\">\n",
       "  <thead>\n",
       "    <tr style=\"text-align: right;\">\n",
       "      <th></th>\n",
       "      <th>time</th>\n",
       "      <th>mean_value</th>\n",
       "      <th>datetime</th>\n",
       "      <th>date</th>\n",
       "      <th>diff</th>\n",
       "    </tr>\n",
       "  </thead>\n",
       "  <tbody>\n",
       "    <tr>\n",
       "      <th>2087</th>\n",
       "      <td>11:00:00</td>\n",
       "      <td>608.4674</td>\n",
       "      <td>2024-04-08 11:00:00+00:00</td>\n",
       "      <td>2024-04-08</td>\n",
       "      <td>0.026117</td>\n",
       "    </tr>\n",
       "    <tr>\n",
       "      <th>2088</th>\n",
       "      <td>15:00:00</td>\n",
       "      <td>608.4740</td>\n",
       "      <td>2024-04-08 15:00:00+00:00</td>\n",
       "      <td>2024-04-08</td>\n",
       "      <td>0.006600</td>\n",
       "    </tr>\n",
       "  </tbody>\n",
       "</table>\n",
       "</div>"
      ],
      "text/plain": [
       "          time  mean_value                  datetime        date      diff\n",
       "2087  11:00:00    608.4674 2024-04-08 11:00:00+00:00  2024-04-08  0.026117\n",
       "2088  15:00:00    608.4740 2024-04-08 15:00:00+00:00  2024-04-08  0.006600"
      ]
     },
     "execution_count": 18,
     "metadata": {},
     "output_type": "execute_result"
    }
   ],
   "source": [
    "df[\"datetime\"] = pd.to_datetime(df.time)\n",
    "df[\"date\"] = [t.date() for t in df.datetime]\n",
    "df[\"time\"] = [t.time() for t in df.datetime]\n",
    "df[\"diff\"] = df[\"mean_value\"].diff()\n",
    "df"
   ]
  },
  {
   "cell_type": "code",
   "execution_count": 19,
   "metadata": {},
   "outputs": [
    {
     "data": {
      "image/png": "[encoded data removed]",
      "text/plain": [
       "<Figure size 1500x400 with 1 Axes>"
      ]
     },
     "metadata": {},
     "output_type": "display_data"
    }
   ],
   "source": [
    "%matplotlib inline\n",
    "df.set_index(\"datetime\")[\"diff\"].plot(figsize=(15,4), grid=True, marker=\"o\");"
   ]
  },
  {
   "cell_type": "code",
   "execution_count": 14,
   "metadata": {},
   "outputs": [
    {
     "data": {
      "text/html": [
       "<div>\n",
       "<style scoped>\n",
       "    .dataframe tbody tr th:only-of-type {\n",
       "        vertical-align: middle;\n",
       "    }\n",
       "\n",
       "    .dataframe tbody tr th {\n",
       "        vertical-align: top;\n",
       "    }\n",
       "\n",
       "    .dataframe thead th {\n",
       "        text-align: right;\n",
       "    }\n",
       "</style>\n",
       "<table border=\"1\" class=\"dataframe\">\n",
       "  <thead>\n",
       "    <tr style=\"text-align: right;\">\n",
       "      <th>date</th>\n",
       "      <th>2023-10-29</th>\n",
       "      <th>2023-10-30</th>\n",
       "      <th>2023-11-05</th>\n",
       "      <th>2023-11-06</th>\n",
       "      <th>2023-11-07</th>\n",
       "      <th>2023-11-08</th>\n",
       "      <th>2023-11-09</th>\n",
       "      <th>2023-11-10</th>\n",
       "      <th>2023-11-11</th>\n",
       "      <th>2023-11-12</th>\n",
       "      <th>...</th>\n",
       "      <th>2024-03-19</th>\n",
       "      <th>2024-03-20</th>\n",
       "      <th>2024-03-21</th>\n",
       "      <th>2024-03-22</th>\n",
       "      <th>2024-03-23</th>\n",
       "      <th>2024-03-24</th>\n",
       "      <th>2024-03-25</th>\n",
       "      <th>2024-03-26</th>\n",
       "      <th>2024-03-27</th>\n",
       "      <th>2024-03-28</th>\n",
       "    </tr>\n",
       "    <tr>\n",
       "      <th>time</th>\n",
       "      <th></th>\n",
       "      <th></th>\n",
       "      <th></th>\n",
       "      <th></th>\n",
       "      <th></th>\n",
       "      <th></th>\n",
       "      <th></th>\n",
       "      <th></th>\n",
       "      <th></th>\n",
       "      <th></th>\n",
       "      <th></th>\n",
       "      <th></th>\n",
       "      <th></th>\n",
       "      <th></th>\n",
       "      <th></th>\n",
       "      <th></th>\n",
       "      <th></th>\n",
       "      <th></th>\n",
       "      <th></th>\n",
       "      <th></th>\n",
       "      <th></th>\n",
       "    </tr>\n",
       "  </thead>\n",
       "  <tbody>\n",
       "    <tr>\n",
       "      <th>22:00:00</th>\n",
       "      <td>NaN</td>\n",
       "      <td>NaN</td>\n",
       "      <td>NaN</td>\n",
       "      <td>0.0092</td>\n",
       "      <td>0.0037</td>\n",
       "      <td>0.0075</td>\n",
       "      <td>0.0022</td>\n",
       "      <td>NaN</td>\n",
       "      <td>NaN</td>\n",
       "      <td>0.0012</td>\n",
       "      <td>...</td>\n",
       "      <td>0.0</td>\n",
       "      <td>0.0018</td>\n",
       "      <td>NaN</td>\n",
       "      <td>0.00345</td>\n",
       "      <td>0.01295</td>\n",
       "      <td>0.005433</td>\n",
       "      <td>NaN</td>\n",
       "      <td>NaN</td>\n",
       "      <td>NaN</td>\n",
       "      <td>NaN</td>\n",
       "    </tr>\n",
       "    <tr>\n",
       "      <th>23:00:00</th>\n",
       "      <td>0.0072</td>\n",
       "      <td>NaN</td>\n",
       "      <td>0.0043</td>\n",
       "      <td>NaN</td>\n",
       "      <td>NaN</td>\n",
       "      <td>NaN</td>\n",
       "      <td>NaN</td>\n",
       "      <td>NaN</td>\n",
       "      <td>0.0039</td>\n",
       "      <td>NaN</td>\n",
       "      <td>...</td>\n",
       "      <td>0.0</td>\n",
       "      <td>NaN</td>\n",
       "      <td>NaN</td>\n",
       "      <td>NaN</td>\n",
       "      <td>NaN</td>\n",
       "      <td>0.001000</td>\n",
       "      <td>NaN</td>\n",
       "      <td>NaN</td>\n",
       "      <td>NaN</td>\n",
       "      <td>NaN</td>\n",
       "    </tr>\n",
       "  </tbody>\n",
       "</table>\n",
       "<p>2 rows × 144 columns</p>\n",
       "</div>"
      ],
      "text/plain": [
       "date      2023-10-29  2023-10-30  2023-11-05  2023-11-06  2023-11-07  \\\n",
       "time                                                                   \n",
       "22:00:00         NaN         NaN         NaN      0.0092      0.0037   \n",
       "23:00:00      0.0072         NaN      0.0043         NaN         NaN   \n",
       "\n",
       "date      2023-11-08  2023-11-09  2023-11-10  2023-11-11  2023-11-12  ...  \\\n",
       "time                                                                  ...   \n",
       "22:00:00      0.0075      0.0022         NaN         NaN      0.0012  ...   \n",
       "23:00:00         NaN         NaN         NaN      0.0039         NaN  ...   \n",
       "\n",
       "date      2024-03-19  2024-03-20  2024-03-21  2024-03-22  2024-03-23  \\\n",
       "time                                                                   \n",
       "22:00:00         0.0      0.0018         NaN     0.00345     0.01295   \n",
       "23:00:00         0.0         NaN         NaN         NaN         NaN   \n",
       "\n",
       "date      2024-03-24  2024-03-25  2024-03-26  2024-03-27  2024-03-28  \n",
       "time                                                                  \n",
       "22:00:00    0.005433         NaN         NaN         NaN         NaN  \n",
       "23:00:00    0.001000         NaN         NaN         NaN         NaN  \n",
       "\n",
       "[2 rows x 144 columns]"
      ]
     },
     "execution_count": 14,
     "metadata": {},
     "output_type": "execute_result"
    }
   ],
   "source": [
    "pt = df.pivot_table(values=\"diff\", columns=\"date\", index=\"time\")\n",
    "pt.tail(2)"
   ]
  },
  {
   "cell_type": "code",
   "execution_count": 65,
   "metadata": {},
   "outputs": [
    {
     "data": {
      "text/plain": [
       "<module 'matplotlib.cm' from 'c:\\\\Users\\\\holge\\\\anaconda3\\\\envs\\\\influx\\\\Lib\\\\site-packages\\\\matplotlib\\\\cm.py'>"
      ]
     },
     "execution_count": 65,
     "metadata": {},
     "output_type": "execute_result"
    }
   ],
   "source": [
    "mpl.cm.RdYlGn"
   ]
  },
  {
   "cell_type": "code",
   "execution_count": 69,
   "metadata": {},
   "outputs": [
    {
     "data": {
      "image/png": "[encoded data removed]",
      "text/plain": [
       "<Figure size 2000x400 with 2 Axes>"
      ]
     },
     "metadata": {},
     "output_type": "display_data"
    }
   ],
   "source": [
    "plt.figure(figsize=(20,4))\n",
    "sns.heatmap(pt, cmap=mpl.cm.RdYlGn_r, vmin=0, vmax=.1);"
   ]
  },
  {
   "cell_type": "code",
   "execution_count": 31,
   "metadata": {},
   "outputs": [
    {
     "data": {
      "text/plain": [
       "(1.2284, -0.4442345)"
      ]
     },
     "execution_count": 31,
     "metadata": {},
     "output_type": "execute_result"
    }
   ],
   "source": [
    "pt.max().max(), pt.min().min()"
   ]
  },
  {
   "cell_type": "code",
   "execution_count": null,
   "metadata": {},
   "outputs": [],
   "source": [
    "pt.index = [t.hour for t in pt.index]\n",
    "pt.columns = [i for i in range(len(pt.columns))]\n",
    "ny, nx = pt.values.shape\n",
    "y = np.vstack(nx*[pt.index.values]).T\n",
    "x = np.vstack(ny*[pt.columns.values])"
   ]
  },
  {
   "cell_type": "code",
   "execution_count": null,
   "metadata": {},
   "outputs": [],
   "source": [
    "fig, ax = plt.subplots(subplot_kw={\"projection\": \"3d\"})\n",
    "surf = ax.plot_surface(x,y, pt.values, cmap=mpl.cm.OrRd_r,\n",
    "                       linewidth=0, antialiased=False)\n",
    "plt.show;"
   ]
  },
  {
   "cell_type": "code",
   "execution_count": 9,
   "metadata": {},
   "outputs": [
    {
     "data": {
      "text/plain": [
       "datetime.date(2023, 4, 8)"
      ]
     },
     "execution_count": 9,
     "metadata": {},
     "output_type": "execute_result"
    }
   ],
   "source": [
    "dt.datetime.now().date() - dt.timedelta(days=365)"
   ]
  },
  {
   "cell_type": "code",
   "execution_count": null,
   "metadata": {},
   "outputs": [],
   "source": []
  }
 ],
 "metadata": {
  "kernelspec": {
   "display_name": "influx",
   "language": "python",
   "name": "python3"
  },
  "language_info": {
   "codemirror_mode": {
    "name": "ipython",
    "version": 3
   },
   "file_extension": ".py",
   "mimetype": "text/x-python",
   "name": "python",
   "nbconvert_exporter": "python",
   "pygments_lexer": "ipython3",
   "version": "3.12.2"
  }
 },
 "nbformat": 4,
 "nbformat_minor": 2
}
