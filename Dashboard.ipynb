{
 "cells": [
  {
   "cell_type": "code",
   "execution_count": 1,
   "metadata": {},
   "outputs": [],
   "source": [
    "from influxdb import InfluxDBClient\n",
    "import pandas as pd\n",
    "import ipywidgets as widgets\n",
    "from IPython.display import display\n",
    "import matplotlib.pyplot as plt\n",
    "import matplotlib as mpl\n",
    "import seaborn as sns\n",
    "import numpy as np"
   ]
  },
  {
   "cell_type": "code",
   "execution_count": 2,
   "metadata": {},
   "outputs": [
    {
     "data": {
      "application/vnd.jupyter.widget-view+json": {
       "model_id": "25078d789bd4478ea660204beb7cabba",
       "version_major": 2,
       "version_minor": 0
      },
      "text/plain": [
       "Label(value=\"Enter password for username='influx_user_1':\")"
      ]
     },
     "metadata": {},
     "output_type": "display_data"
    },
    {
     "data": {
      "application/vnd.jupyter.widget-view+json": {
       "model_id": "fd9bcdb0f1104384a47467bcecd55ba6",
       "version_major": 2,
       "version_minor": 0
      },
      "text/plain": [
       "Password()"
      ]
     },
     "metadata": {},
     "output_type": "display_data"
    }
   ],
   "source": [
    "# InfluxDB host address and user credentials\n",
    "host = \"192.168.178.63\"\n",
    "username = \"influx_user_1\"\n",
    "\n",
    "# This ipython widget input for the password avoids storing the password into the notebook.\n",
    "display(widgets.Label(f'Enter password for {username=}:'))\n",
    "pw = widgets.Password(value=\"password\")\n",
    "display(pw)"
   ]
  },
  {
   "cell_type": "code",
   "execution_count": 4,
   "metadata": {},
   "outputs": [
    {
     "data": {
      "text/plain": [
       "[{'name': '_internal'},\n",
       " {'name': 'influx_db_1'},\n",
       " {'name': 'influx_db_2'},\n",
       " {'name': 'influx_db_3'},\n",
       " {'name': 'influx_db_4'}]"
      ]
     },
     "execution_count": 4,
     "metadata": {},
     "output_type": "execute_result"
    }
   ],
   "source": [
    "client = InfluxDBClient(host=host, port=8086, username=username, password=pw.value)\n",
    "client.get_list_database()"
   ]
  },
  {
   "cell_type": "code",
   "execution_count": 5,
   "metadata": {},
   "outputs": [],
   "source": [
    "client.switch_database('influx_db_4')"
   ]
  },
  {
   "cell_type": "code",
   "execution_count": 17,
   "metadata": {},
   "outputs": [],
   "source": [
    "records = list()\n",
    "for point in [\"unit=\" + p[\"key\"] for p in client.query(\"show series\").get_points()]:\n",
    "    # point example: unit=kWh,domain=sensor,entity_id=sma_battery_charge_total\n",
    "    record = dict()\n",
    "    for item in point.split(\",\"):\n",
    "        key, value = item.split(\"=\")\n",
    "        record[key] = value\n",
    "    records.append(record)\n",
    "entities = pd.DataFrame.from_records(records)"
   ]
  },
  {
   "cell_type": "code",
   "execution_count": 18,
   "metadata": {},
   "outputs": [
    {
     "data": {
      "text/html": [
       "<div>\n",
       "<style scoped>\n",
       "    .dataframe tbody tr th:only-of-type {\n",
       "        vertical-align: middle;\n",
       "    }\n",
       "\n",
       "    .dataframe tbody tr th {\n",
       "        vertical-align: top;\n",
       "    }\n",
       "\n",
       "    .dataframe thead th {\n",
       "        text-align: right;\n",
       "    }\n",
       "</style>\n",
       "<table border=\"1\" class=\"dataframe\">\n",
       "  <thead>\n",
       "    <tr style=\"text-align: right;\">\n",
       "      <th></th>\n",
       "      <th>unit</th>\n",
       "      <th>domain</th>\n",
       "      <th>entity_id</th>\n",
       "    </tr>\n",
       "  </thead>\n",
       "  <tbody>\n",
       "    <tr>\n",
       "      <th>50</th>\n",
       "      <td>A</td>\n",
       "      <td>sensor</td>\n",
       "      <td>sn_3015663157_battery_current_a</td>\n",
       "    </tr>\n",
       "    <tr>\n",
       "      <th>239</th>\n",
       "      <td>state</td>\n",
       "      <td>sensor</td>\n",
       "      <td>io_series_8_9_2e3c_number_of_sectors</td>\n",
       "    </tr>\n",
       "    <tr>\n",
       "      <th>32</th>\n",
       "      <td>%</td>\n",
       "      <td>sensor</td>\n",
       "      <td>silkes_huawei_battery_level</td>\n",
       "    </tr>\n",
       "    <tr>\n",
       "      <th>95</th>\n",
       "      <td>W</td>\n",
       "      <td>sensor</td>\n",
       "      <td>power_imported</td>\n",
       "    </tr>\n",
       "    <tr>\n",
       "      <th>178</th>\n",
       "      <td>m³</td>\n",
       "      <td>sensor</td>\n",
       "      <td>watermeter_value</td>\n",
       "    </tr>\n",
       "    <tr>\n",
       "      <th>44</th>\n",
       "      <td>A</td>\n",
       "      <td>sensor</td>\n",
       "      <td>sma_current_total</td>\n",
       "    </tr>\n",
       "  </tbody>\n",
       "</table>\n",
       "</div>"
      ],
      "text/plain": [
       "      unit  domain                             entity_id\n",
       "50       A  sensor       sn_3015663157_battery_current_a\n",
       "239  state  sensor  io_series_8_9_2e3c_number_of_sectors\n",
       "32       %  sensor           silkes_huawei_battery_level\n",
       "95       W  sensor                        power_imported\n",
       "178     m³  sensor                      watermeter_value\n",
       "44       A  sensor                     sma_current_total"
      ]
     },
     "execution_count": 18,
     "metadata": {},
     "output_type": "execute_result"
    }
   ],
   "source": [
    "entities.sample(6)"
   ]
  },
  {
   "cell_type": "code",
   "execution_count": 19,
   "metadata": {},
   "outputs": [
    {
     "data": {
      "text/plain": [
       "domain\n",
       "sensor           228\n",
       "binary_sensor     49\n",
       "Name: count, dtype: int64"
      ]
     },
     "execution_count": 19,
     "metadata": {},
     "output_type": "execute_result"
    }
   ],
   "source": [
    "entities.domain.value_counts()"
   ]
  },
  {
   "cell_type": "code",
   "execution_count": 21,
   "metadata": {},
   "outputs": [
    {
     "data": {
      "text/plain": [
       "unit\n",
       "%                     43\n",
       "A                     19\n",
       "B                      3\n",
       "GB                     1\n",
       "GiB                    2\n",
       "Hz                     2\n",
       "Mbit/s                 2\n",
       "MiB                    2\n",
       "UV\\ index              1\n",
       "V                      6\n",
       "W                     46\n",
       "Wh                     2\n",
       "dBm                    3\n",
       "h                      1\n",
       "hPa                    2\n",
       "kW                     1\n",
       "kWh                   17\n",
       "kWh/100km              1\n",
       "km                     4\n",
       "km/h                   2\n",
       "l                      1\n",
       "lx                     2\n",
       "m                      1\n",
       "min                    3\n",
       "mm                     3\n",
       "mm/h                   2\n",
       "ms                     1\n",
       "m³                     6\n",
       "m³/h                   3\n",
       "pending\\ update(s)     1\n",
       "s                      4\n",
       "state                 64\n",
       "steps                  1\n",
       "°                      3\n",
       "°C                    20\n",
       "µS/cm                  2\n",
       "Name: count, dtype: int64"
      ]
     },
     "execution_count": 21,
     "metadata": {},
     "output_type": "execute_result"
    }
   ],
   "source": [
    "entities.unit.value_counts().sort_index()"
   ]
  },
  {
   "cell_type": "code",
   "execution_count": 32,
   "metadata": {},
   "outputs": [
    {
     "data": {
      "text/html": [
       "<div>\n",
       "<style scoped>\n",
       "    .dataframe tbody tr th:only-of-type {\n",
       "        vertical-align: middle;\n",
       "    }\n",
       "\n",
       "    .dataframe tbody tr th {\n",
       "        vertical-align: top;\n",
       "    }\n",
       "\n",
       "    .dataframe thead th {\n",
       "        text-align: right;\n",
       "    }\n",
       "</style>\n",
       "<table border=\"1\" class=\"dataframe\">\n",
       "  <thead>\n",
       "    <tr style=\"text-align: right;\">\n",
       "      <th></th>\n",
       "      <th>unit</th>\n",
       "      <th>domain</th>\n",
       "      <th>entity_id</th>\n",
       "    </tr>\n",
       "  </thead>\n",
       "  <tbody>\n",
       "    <tr>\n",
       "      <th>173</th>\n",
       "      <td>m³</td>\n",
       "      <td>sensor</td>\n",
       "      <td>gasmeter2_rate_per_digitalization_round</td>\n",
       "    </tr>\n",
       "    <tr>\n",
       "      <th>174</th>\n",
       "      <td>m³</td>\n",
       "      <td>sensor</td>\n",
       "      <td>gasmeter2_value</td>\n",
       "    </tr>\n",
       "    <tr>\n",
       "      <th>175</th>\n",
       "      <td>m³</td>\n",
       "      <td>sensor</td>\n",
       "      <td>gasmeter_rate_per_digitalization_round</td>\n",
       "    </tr>\n",
       "    <tr>\n",
       "      <th>176</th>\n",
       "      <td>m³</td>\n",
       "      <td>sensor</td>\n",
       "      <td>gasmeter_value</td>\n",
       "    </tr>\n",
       "    <tr>\n",
       "      <th>177</th>\n",
       "      <td>m³</td>\n",
       "      <td>sensor</td>\n",
       "      <td>watermeter_rate_per_digitalization_round</td>\n",
       "    </tr>\n",
       "    <tr>\n",
       "      <th>178</th>\n",
       "      <td>m³</td>\n",
       "      <td>sensor</td>\n",
       "      <td>watermeter_value</td>\n",
       "    </tr>\n",
       "  </tbody>\n",
       "</table>\n",
       "</div>"
      ],
      "text/plain": [
       "    unit  domain                                 entity_id\n",
       "173   m³  sensor   gasmeter2_rate_per_digitalization_round\n",
       "174   m³  sensor                           gasmeter2_value\n",
       "175   m³  sensor    gasmeter_rate_per_digitalization_round\n",
       "176   m³  sensor                            gasmeter_value\n",
       "177   m³  sensor  watermeter_rate_per_digitalization_round\n",
       "178   m³  sensor                          watermeter_value"
      ]
     },
     "execution_count": 32,
     "metadata": {},
     "output_type": "execute_result"
    }
   ],
   "source": [
    "entities[entities.unit == \"m³\"]"
   ]
  },
  {
   "cell_type": "code",
   "execution_count": 52,
   "metadata": {},
   "outputs": [
    {
     "data": {
      "text/html": [
       "<div>\n",
       "<style scoped>\n",
       "    .dataframe tbody tr th:only-of-type {\n",
       "        vertical-align: middle;\n",
       "    }\n",
       "\n",
       "    .dataframe tbody tr th {\n",
       "        vertical-align: top;\n",
       "    }\n",
       "\n",
       "    .dataframe thead th {\n",
       "        text-align: right;\n",
       "    }\n",
       "</style>\n",
       "<table border=\"1\" class=\"dataframe\">\n",
       "  <thead>\n",
       "    <tr style=\"text-align: right;\">\n",
       "      <th></th>\n",
       "      <th>time</th>\n",
       "      <th>mean_value</th>\n",
       "    </tr>\n",
       "  </thead>\n",
       "  <tbody>\n",
       "    <tr>\n",
       "      <th>1921</th>\n",
       "      <td>2024-03-24T11:00:00Z</td>\n",
       "      <td>606.665100</td>\n",
       "    </tr>\n",
       "    <tr>\n",
       "      <th>1922</th>\n",
       "      <td>2024-03-24T12:00:00Z</td>\n",
       "      <td>606.692433</td>\n",
       "    </tr>\n",
       "  </tbody>\n",
       "</table>\n",
       "</div>"
      ],
      "text/plain": [
       "                      time  mean_value\n",
       "1921  2024-03-24T11:00:00Z  606.665100\n",
       "1922  2024-03-24T12:00:00Z  606.692433"
      ]
     },
     "execution_count": 52,
     "metadata": {},
     "output_type": "execute_result"
    }
   ],
   "source": [
    "unit = \"m³\"\n",
    "entity_id = \"watermeter_value\"\n",
    "selection = \"mean_value\"\n",
    "qstr = f'SELECT {selection} FROM \"{unit}\" WHERE {entity_id=}'\n",
    "df = pd.DataFrame.from_records(client.query(qstr).get_points())\n",
    "df.tail(2)"
   ]
  },
  {
   "cell_type": "code",
   "execution_count": 53,
   "metadata": {},
   "outputs": [
    {
     "data": {
      "text/html": [
       "<div>\n",
       "<style scoped>\n",
       "    .dataframe tbody tr th:only-of-type {\n",
       "        vertical-align: middle;\n",
       "    }\n",
       "\n",
       "    .dataframe tbody tr th {\n",
       "        vertical-align: top;\n",
       "    }\n",
       "\n",
       "    .dataframe thead th {\n",
       "        text-align: right;\n",
       "    }\n",
       "</style>\n",
       "<table border=\"1\" class=\"dataframe\">\n",
       "  <thead>\n",
       "    <tr style=\"text-align: right;\">\n",
       "      <th></th>\n",
       "      <th>time</th>\n",
       "      <th>mean_value</th>\n",
       "      <th>datetime</th>\n",
       "      <th>date</th>\n",
       "      <th>diff</th>\n",
       "    </tr>\n",
       "  </thead>\n",
       "  <tbody>\n",
       "    <tr>\n",
       "      <th>1921</th>\n",
       "      <td>11:00:00</td>\n",
       "      <td>606.665100</td>\n",
       "      <td>2024-03-24 11:00:00+00:00</td>\n",
       "      <td>2024-03-24</td>\n",
       "      <td>0.063600</td>\n",
       "    </tr>\n",
       "    <tr>\n",
       "      <th>1922</th>\n",
       "      <td>12:00:00</td>\n",
       "      <td>606.692433</td>\n",
       "      <td>2024-03-24 12:00:00+00:00</td>\n",
       "      <td>2024-03-24</td>\n",
       "      <td>0.027333</td>\n",
       "    </tr>\n",
       "  </tbody>\n",
       "</table>\n",
       "</div>"
      ],
      "text/plain": [
       "          time  mean_value                  datetime        date      diff\n",
       "1921  11:00:00  606.665100 2024-03-24 11:00:00+00:00  2024-03-24  0.063600\n",
       "1922  12:00:00  606.692433 2024-03-24 12:00:00+00:00  2024-03-24  0.027333"
      ]
     },
     "execution_count": 53,
     "metadata": {},
     "output_type": "execute_result"
    }
   ],
   "source": [
    "df[\"datetime\"] = pd.to_datetime(df.time)\n",
    "df[\"date\"] = [t.date() for t in df.datetime]\n",
    "df[\"time\"] = [t.time() for t in df.datetime]\n",
    "df[\"diff\"] = df[\"mean_value\"].diff()\n",
    "df.tail(2)"
   ]
  },
  {
   "cell_type": "code",
   "execution_count": 54,
   "metadata": {},
   "outputs": [
    {
     "data": {
      "image/png": "[encoded data removed]",
      "text/plain": [
       "<Figure size 1500x400 with 1 Axes>"
      ]
     },
     "metadata": {},
     "output_type": "display_data"
    }
   ],
   "source": [
    "%matplotlib inline\n",
    "df.set_index(\"datetime\")[\"diff\"].plot(figsize=(15,4), grid=True, marker=\"o\");"
   ]
  },
  {
   "cell_type": "code",
   "execution_count": 55,
   "metadata": {},
   "outputs": [
    {
     "data": {
      "text/html": [
       "<div>\n",
       "<style scoped>\n",
       "    .dataframe tbody tr th:only-of-type {\n",
       "        vertical-align: middle;\n",
       "    }\n",
       "\n",
       "    .dataframe tbody tr th {\n",
       "        vertical-align: top;\n",
       "    }\n",
       "\n",
       "    .dataframe thead th {\n",
       "        text-align: right;\n",
       "    }\n",
       "</style>\n",
       "<table border=\"1\" class=\"dataframe\">\n",
       "  <thead>\n",
       "    <tr style=\"text-align: right;\">\n",
       "      <th>date</th>\n",
       "      <th>2023-10-29</th>\n",
       "      <th>2023-10-30</th>\n",
       "      <th>2023-11-05</th>\n",
       "      <th>2023-11-06</th>\n",
       "      <th>2023-11-07</th>\n",
       "      <th>2023-11-08</th>\n",
       "      <th>2023-11-09</th>\n",
       "      <th>2023-11-10</th>\n",
       "      <th>2023-11-11</th>\n",
       "      <th>2023-11-12</th>\n",
       "      <th>...</th>\n",
       "      <th>2024-03-15</th>\n",
       "      <th>2024-03-16</th>\n",
       "      <th>2024-03-17</th>\n",
       "      <th>2024-03-18</th>\n",
       "      <th>2024-03-19</th>\n",
       "      <th>2024-03-20</th>\n",
       "      <th>2024-03-21</th>\n",
       "      <th>2024-03-22</th>\n",
       "      <th>2024-03-23</th>\n",
       "      <th>2024-03-24</th>\n",
       "    </tr>\n",
       "    <tr>\n",
       "      <th>time</th>\n",
       "      <th></th>\n",
       "      <th></th>\n",
       "      <th></th>\n",
       "      <th></th>\n",
       "      <th></th>\n",
       "      <th></th>\n",
       "      <th></th>\n",
       "      <th></th>\n",
       "      <th></th>\n",
       "      <th></th>\n",
       "      <th></th>\n",
       "      <th></th>\n",
       "      <th></th>\n",
       "      <th></th>\n",
       "      <th></th>\n",
       "      <th></th>\n",
       "      <th></th>\n",
       "      <th></th>\n",
       "      <th></th>\n",
       "      <th></th>\n",
       "      <th></th>\n",
       "    </tr>\n",
       "  </thead>\n",
       "  <tbody>\n",
       "    <tr>\n",
       "      <th>22:00:00</th>\n",
       "      <td>NaN</td>\n",
       "      <td>NaN</td>\n",
       "      <td>NaN</td>\n",
       "      <td>0.0092</td>\n",
       "      <td>0.0037</td>\n",
       "      <td>0.0075</td>\n",
       "      <td>0.0022</td>\n",
       "      <td>NaN</td>\n",
       "      <td>NaN</td>\n",
       "      <td>0.0012</td>\n",
       "      <td>...</td>\n",
       "      <td>0.000317</td>\n",
       "      <td>0.0031</td>\n",
       "      <td>0.00505</td>\n",
       "      <td>NaN</td>\n",
       "      <td>0.0</td>\n",
       "      <td>0.0018</td>\n",
       "      <td>NaN</td>\n",
       "      <td>0.00345</td>\n",
       "      <td>0.01295</td>\n",
       "      <td>NaN</td>\n",
       "    </tr>\n",
       "    <tr>\n",
       "      <th>23:00:00</th>\n",
       "      <td>0.0072</td>\n",
       "      <td>NaN</td>\n",
       "      <td>0.0043</td>\n",
       "      <td>NaN</td>\n",
       "      <td>NaN</td>\n",
       "      <td>NaN</td>\n",
       "      <td>NaN</td>\n",
       "      <td>NaN</td>\n",
       "      <td>0.0039</td>\n",
       "      <td>NaN</td>\n",
       "      <td>...</td>\n",
       "      <td>-0.000017</td>\n",
       "      <td>NaN</td>\n",
       "      <td>0.00320</td>\n",
       "      <td>NaN</td>\n",
       "      <td>0.0</td>\n",
       "      <td>NaN</td>\n",
       "      <td>NaN</td>\n",
       "      <td>NaN</td>\n",
       "      <td>NaN</td>\n",
       "      <td>NaN</td>\n",
       "    </tr>\n",
       "  </tbody>\n",
       "</table>\n",
       "<p>2 rows × 140 columns</p>\n",
       "</div>"
      ],
      "text/plain": [
       "date      2023-10-29  2023-10-30  2023-11-05  2023-11-06  2023-11-07  \\\n",
       "time                                                                   \n",
       "22:00:00         NaN         NaN         NaN      0.0092      0.0037   \n",
       "23:00:00      0.0072         NaN      0.0043         NaN         NaN   \n",
       "\n",
       "date      2023-11-08  2023-11-09  2023-11-10  2023-11-11  2023-11-12  ...  \\\n",
       "time                                                                  ...   \n",
       "22:00:00      0.0075      0.0022         NaN         NaN      0.0012  ...   \n",
       "23:00:00         NaN         NaN         NaN      0.0039         NaN  ...   \n",
       "\n",
       "date      2024-03-15  2024-03-16  2024-03-17  2024-03-18  2024-03-19  \\\n",
       "time                                                                   \n",
       "22:00:00    0.000317      0.0031     0.00505         NaN         0.0   \n",
       "23:00:00   -0.000017         NaN     0.00320         NaN         0.0   \n",
       "\n",
       "date      2024-03-20  2024-03-21  2024-03-22  2024-03-23  2024-03-24  \n",
       "time                                                                  \n",
       "22:00:00      0.0018         NaN     0.00345     0.01295         NaN  \n",
       "23:00:00         NaN         NaN         NaN         NaN         NaN  \n",
       "\n",
       "[2 rows x 140 columns]"
      ]
     },
     "execution_count": 55,
     "metadata": {},
     "output_type": "execute_result"
    }
   ],
   "source": [
    "pt = df.pivot_table(values=\"diff\", columns=\"date\", index=\"time\")\n",
    "pt.tail(2)"
   ]
  },
  {
   "cell_type": "code",
   "execution_count": 65,
   "metadata": {},
   "outputs": [
    {
     "data": {
      "text/plain": [
       "<module 'matplotlib.cm' from 'c:\\\\Users\\\\holge\\\\anaconda3\\\\envs\\\\influx\\\\Lib\\\\site-packages\\\\matplotlib\\\\cm.py'>"
      ]
     },
     "execution_count": 65,
     "metadata": {},
     "output_type": "execute_result"
    }
   ],
   "source": [
    "mpl.cm.RdYlGn"
   ]
  },
  {
   "cell_type": "code",
   "execution_count": 69,
   "metadata": {},
   "outputs": [
    {
     "data": {
      "image/png": "[encoded data removed]",
      "text/plain": [
       "<Figure size 2000x400 with 2 Axes>"
      ]
     },
     "metadata": {},
     "output_type": "display_data"
    }
   ],
   "source": [
    "plt.figure(figsize=(20,4))\n",
    "sns.heatmap(pt, cmap=mpl.cm.RdYlGn_r, vmin=0, vmax=.1);"
   ]
  },
  {
   "cell_type": "code",
   "execution_count": 31,
   "metadata": {},
   "outputs": [
    {
     "data": {
      "text/plain": [
       "(1.2284, -0.4442345)"
      ]
     },
     "execution_count": 31,
     "metadata": {},
     "output_type": "execute_result"
    }
   ],
   "source": [
    "pt.max().max(), pt.min().min()"
   ]
  },
  {
   "cell_type": "code",
   "execution_count": null,
   "metadata": {},
   "outputs": [],
   "source": [
    "pt.index = [t.hour for t in pt.index]\n",
    "pt.columns = [i for i in range(len(pt.columns))]\n",
    "ny, nx = pt.values.shape\n",
    "y = np.vstack(nx*[pt.index.values]).T\n",
    "x = np.vstack(ny*[pt.columns.values])"
   ]
  },
  {
   "cell_type": "code",
   "execution_count": null,
   "metadata": {},
   "outputs": [],
   "source": [
    "fig, ax = plt.subplots(subplot_kw={\"projection\": \"3d\"})\n",
    "surf = ax.plot_surface(x,y, pt.values, cmap=mpl.cm.OrRd_r,\n",
    "                       linewidth=0, antialiased=False)\n",
    "plt.show;"
   ]
  },
  {
   "cell_type": "code",
   "execution_count": null,
   "metadata": {},
   "outputs": [],
   "source": []
  }
 ],
 "metadata": {
  "kernelspec": {
   "display_name": "influx",
   "language": "python",
   "name": "python3"
  },
  "language_info": {
   "codemirror_mode": {
    "name": "ipython",
    "version": 3
   },
   "file_extension": ".py",
   "mimetype": "text/x-python",
   "name": "python",
   "nbconvert_exporter": "python",
   "pygments_lexer": "ipython3",
   "version": "3.12.2"
  }
 },
 "nbformat": 4,
 "nbformat_minor": 2
}
